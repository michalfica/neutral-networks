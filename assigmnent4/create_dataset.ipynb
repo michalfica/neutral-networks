{
 "cells": [
  {
   "cell_type": "markdown",
   "metadata": {},
   "source": [
    "## Plik generuje dane treningowe dla sieci neuronwej, na  podstawie przebiegów gry Connect4.\n",
    "\n",
    "Dane treningowe są następującej postaci: \n",
    "* stan gry zakodowany jako para planszy oraz etykieta, który gracz wygrywa (etykieta): \n",
    "    * pierwsza znich zawiera 1 na polach, wktórych znajdują się 'monety' pierwszego gracza\n",
    "    * druga znich przedstawai ułożenie 'monet' drugiego gracza"
   ]
  },
  {
   "cell_type": "code",
   "execution_count": 107,
   "metadata": {},
   "outputs": [],
   "source": [
    "from imp import reload\n",
    "\n",
    "import DataLoader\n",
    "reload(DataLoader)\n",
    "from DataLoader import InMemDataLoader\n",
    "from DataLoader import C4DataSet"
   ]
  },
  {
   "cell_type": "code",
   "execution_count": 108,
   "metadata": {},
   "outputs": [],
   "source": [
    "amount_of_games = 1000 \n",
    "moves_observed  = 10 \n",
    "all_samples = amount_of_games * moves_observed\n",
    "\n",
    "batch_size = 64\n",
    "train_size, val_size, test_size = int(all_samples/3), int(all_samples/3), int(all_samples/3)\n",
    "amount_of_train_batches = train_size / batch_size"
   ]
  },
  {
   "cell_type": "code",
   "execution_count": 109,
   "metadata": {},
   "outputs": [],
   "source": [
    "dataset = C4DataSet(amount_of_games, moves_observed).create_data_set()\n",
    "\n",
    "train_set = dataset[:train_size]\n",
    "val_set = dataset[train_size:train_size+val_size] \n",
    "test_set = dataset[train_size+val_size:]"
   ]
  },
  {
   "cell_type": "code",
   "execution_count": 110,
   "metadata": {},
   "outputs": [
    {
     "name": "stderr",
     "output_type": "stream",
     "text": [
      "100%|██████████| 3333/3333 [00:00<00:00, 45509.97it/s]\n",
      "100%|██████████| 3333/3333 [00:00<00:00, 53170.40it/s]\n",
      "100%|██████████| 3334/3334 [00:00<00:00, 63860.88it/s]\n"
     ]
    }
   ],
   "source": [
    "data_loaders = {\n",
    "    \"train\": InMemDataLoader(train_set, batch_size=batch_size, shuffle=True),\n",
    "    \"valid\": InMemDataLoader(val_set, batch_size=batch_size, shuffle=False),\n",
    "    \"test\": InMemDataLoader(test_set, batch_size=batch_size, shuffle=False),\n",
    "}"
   ]
  }
 ],
 "metadata": {
  "kernelspec": {
   "display_name": "Python 3",
   "language": "python",
   "name": "python3"
  },
  "language_info": {
   "codemirror_mode": {
    "name": "ipython",
    "version": 3
   },
   "file_extension": ".py",
   "mimetype": "text/x-python",
   "name": "python",
   "nbconvert_exporter": "python",
   "pygments_lexer": "ipython3",
   "version": "3.10.12"
  }
 },
 "nbformat": 4,
 "nbformat_minor": 2
}
