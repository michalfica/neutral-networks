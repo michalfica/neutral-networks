{
 "cells": [
  {
   "cell_type": "markdown",
   "metadata": {},
   "source": [
    "## Plik generuje dane treningowe dla sieci neuronwej, na  podstawie przebiegów gry Connect4.\n",
    "\n",
    "Dane treningowe są następującej postaci: \n",
    "* stan gry zakodowany jako para planszy oraz etykieta, który gracz wygrywa (etykieta): \n",
    "    * pierwsza znich zawiera 1 na polach, wktórych znajdują się 'monety' pierwszego gracza\n",
    "    * druga znich przedstawai ułożenie 'monet' drugiego gracza"
   ]
  },
  {
   "cell_type": "markdown",
   "metadata": {},
   "source": [
    "### Pojedynczy przebieg gry zamienia na wiele danych testowych."
   ]
  },
  {
   "cell_type": "code",
   "execution_count": 1,
   "metadata": {},
   "outputs": [],
   "source": [
    "# import numpy as np\n",
    "import torch\n",
    "import torchvision"
   ]
  },
  {
   "cell_type": "code",
   "execution_count": 55,
   "metadata": {},
   "outputs": [],
   "source": [
    "# UWAGA ! OKAZUJE SIĘ ZE:  A - czyli drugi gracz, B - pierwszy gracz gdy narsyowałem przykłady \n",
    "\n",
    "winner_options = {\n",
    "    \"A\" : 2, \n",
    "    \"B\" : 1,\n",
    "    \"D\" : 0 \n",
    "}\n",
    "\n",
    "def create_data_samples(game, k=3):\n",
    "    \"\"\"zostanie zapisanych ostatnich k stanów gry\"\"\"        \n",
    "    treshold   = len(game)- 2 - k\n",
    "    winner = winner_options[game[-1]]\n",
    "    \n",
    "    samples = []\n",
    "    board   = torch.zeros([2, 6, 7], dtype=torch.int32)\n",
    "    cnt     = torch.zeros([7], dtype=torch.int32)\n",
    "    for i in range(1, len(game)-1):\n",
    "        turn = (i-1) % 2\n",
    "        col = int(game[i])\n",
    "        row = 6 - 1 - cnt[col]\n",
    "        \n",
    "        board[turn][row][col] = 1 \n",
    "        cnt[col] += 1\n",
    "\n",
    "        if i > treshold:\n",
    "            samples.append((board.detach().clone(), winner)) \n",
    "    return samples"
   ]
  },
  {
   "cell_type": "code",
   "execution_count": 56,
   "metadata": {},
   "outputs": [
    {
     "name": "stdout",
     "output_type": "stream",
     "text": [
      "długość gry =  20\n"
     ]
    }
   ],
   "source": [
    "# game = \"S331211565510353365512066022023404B\"\n",
    "# game = \"S 31 45 42 21 35 33 44 20 1 B\"\n",
    "game = \"S410053445355233201A\"\n",
    "print(\"długość gry = \", len(game))"
   ]
  },
  {
   "cell_type": "code",
   "execution_count": null,
   "metadata": {},
   "outputs": [],
   "source": [
    "sample = create_data_samples(game)\n",
    "print(sample[0])\n",
    "print(sample[1])\n",
    "print(sample[2])"
   ]
  }
 ],
 "metadata": {
  "kernelspec": {
   "display_name": "Python 3",
   "language": "python",
   "name": "python3"
  },
  "language_info": {
   "codemirror_mode": {
    "name": "ipython",
    "version": 3
   },
   "file_extension": ".py",
   "mimetype": "text/x-python",
   "name": "python",
   "nbconvert_exporter": "python",
   "pygments_lexer": "ipython3",
   "version": "3.10.12"
  }
 },
 "nbformat": 4,
 "nbformat_minor": 2
}
