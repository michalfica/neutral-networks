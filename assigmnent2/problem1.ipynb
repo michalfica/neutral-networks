{
 "cells": [
  {
   "cell_type": "markdown",
   "metadata": {},
   "source": [
    "## Problem 1 [1p]:\n",
    "\n",
    "Let's see why GPUs are useful in deep learning. Compare matrix multiplication speed for a few matrix shapes when implemented:\n",
    "1. as loops in Python\n",
    "2. using np.einsum\n",
    "3. using numpy on CPU\n",
    "4. using pytorch on CPU\n",
    "5. using pytorch on GPU\n",
    "\n",
    "Finally, consider two square matrices, $A$ and $B$. We have 4 possibilities of multiplying them or their transpositions:\n",
    "1. $AB$\n",
    "2. $A^TB$\n",
    "3. $AB^T$\n",
    "4. $A^TB^T$\n",
    "\n",
    "Which option is the fastest? Why?"
   ]
  },
  {
   "cell_type": "code",
   "execution_count": 3,
   "metadata": {},
   "outputs": [
    {
     "name": "stdout",
     "output_type": "stream",
     "text": [
      "[0 0 0]\n"
     ]
    }
   ],
   "source": [
    "import torch\n",
    "import numpy as np  # cpu \n",
    "import time\n",
    "\n",
    "# komentarz "
   ]
  },
  {
   "cell_type": "code",
   "execution_count": null,
   "metadata": {},
   "outputs": [],
   "source": [
    "def matrix_mult_loop(A, B):\n",
    "    n, k = A.shape\n",
    "    k, m = B.shape\n",
    "\n",
    "    C = torch.zeros((n, m), dtype=torch.int32)\n",
    "    for i in range(n):\n",
    "        for j in range(m):\n",
    "            for l in range(k):\n",
    "                C[i][j] += A[i][l]*B[l][j]\n",
    "    return C"
   ]
  },
  {
   "cell_type": "code",
   "execution_count": null,
   "metadata": {},
   "outputs": [],
   "source": [
    "n, k, m = 100, 70, 100 \n",
    "A, B = np.random.randint(0, 10, size = (n, k)), np.random.randint(0, 10, size = (k, m))\n",
    "M1 = torch.tensor(A)\n",
    "M2 = torch.tensor(B) \n",
    "\n",
    "time_table = []\n",
    "# -------------------------------------------------\n",
    "t = time.process_time()\n",
    "C_loop = matrix_mult_loop(M1, M2)\n",
    "time_table.append(time.process_time() - t)\n",
    "#--------------------------------------------------\n",
    "t = time.process_time()\n",
    "C_einsum = np.einsum('ij,jk->ik', A, B)\n",
    "time_table.append(time.process_time() - t)\n",
    "#--------------------------------------------------\n",
    "t = time.process_time()\n",
    "C_np_cpu = np.matmul(A, B)\n",
    "time_table.append(time.process_time() - t)\n",
    "#--------------------------------------------------\n",
    "t = time.process_time()\n",
    "C_torch = torch.mm(M1, M2)\n",
    "time_table.append(time.process_time() - t)\n",
    "#--------------------------------------------------\n",
    "# x = torch.randn(n, k).to(\"cuda\")\n",
    "# w = torch.randn(k, m).to(\"cuda\")\n",
    "# torch.cuda.synchronize()\n",
    "\n",
    "# %time y = x.mm(w.t()); torch.cuda.synchronize()\n",
    "\n",
    "# print(time_table)"
   ]
  },
  {
   "cell_type": "markdown",
   "metadata": {},
   "source": [
    "|   Type    |    Time     |\n",
    "|-----------|-------------|\n",
    "|   loop    |  73.335327  | \n",
    "| np.einsum |  0.0020003  |\n",
    "| np CPU    |  0.0019050  |\n",
    "| torch CPU | 0.00401183  |"
   ]
  },
  {
   "cell_type": "code",
   "execution_count": 5,
   "metadata": {},
   "outputs": [
    {
     "name": "stdout",
     "output_type": "stream",
     "text": [
      "[0.0027436089999994806, 0.0030644999999989153, 0.001939645000000212, 0.0020961879999994437]\n"
     ]
    }
   ],
   "source": [
    "n, k, m = 100, 100, 100 \n",
    "A, B = np.random.randint(0, 10, size = (n, k)), np.random.randint(0, 10, size = (k, m))\n",
    "M1 = torch.tensor(A)\n",
    "M2 = torch.tensor(B) \n",
    "\n",
    "time_table = []\n",
    "t = time.process_time()\n",
    "C_torch = torch.mm(M1, M2)\n",
    "time_table.append(time.process_time() - t)\n",
    "# ---------------------------------------------\n",
    "t = time.process_time()\n",
    "C_torch = torch.mm(torch.t(M1), M2)\n",
    "time_table.append(time.process_time() - t)\n",
    "# ---------------------------------------------\n",
    "t = time.process_time()\n",
    "C_torch = torch.mm(M1, torch.t(M2))\n",
    "time_table.append(time.process_time() - t)\n",
    "# ---------------------------------------------\n",
    "t = time.process_time()\n",
    "C_torch = torch.mm(torch.t(M1), torch.t(M2))\n",
    "time_table.append(time.process_time() - t)\n",
    "# ---------------------------------------------\n",
    "print(time_table)"
   ]
  },
  {
   "cell_type": "markdown",
   "metadata": {},
   "source": [
    "|   Type     |    Time    |\n",
    "|------------|------------|\n",
    "|  A * B     |  0.002743  | \n",
    "|  A^T * B   |  0.003064  |\n",
    "|  A * B^T   |  0.001939  |\n",
    "|  A^T * B^T |  0.002096  |"
   ]
  }
 ],
 "metadata": {
  "kernelspec": {
   "display_name": "Python 3",
   "language": "python",
   "name": "python3"
  },
  "language_info": {
   "codemirror_mode": {
    "name": "ipython",
    "version": 3
   },
   "file_extension": ".py",
   "mimetype": "text/x-python",
   "name": "python",
   "nbconvert_exporter": "python",
   "pygments_lexer": "ipython3",
   "version": "3.10.12"
  }
 },
 "nbformat": 4,
 "nbformat_minor": 2
}
